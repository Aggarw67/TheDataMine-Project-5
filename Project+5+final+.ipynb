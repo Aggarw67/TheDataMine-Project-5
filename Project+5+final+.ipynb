{
 "cells": [
  {
   "cell_type": "code",
   "execution_count": null,
   "metadata": {
    "collapsed": true
   },
   "outputs": [],
   "source": [
    "#1a. \n",
    "#XML is a markup language that defines a set of rules for encoding documents in a format that is both machine-readable and  human-readable.\n",
    "#XML stands for Extensible Markup Language"
   ]
  },
  {
   "cell_type": "code",
   "execution_count": null,
   "metadata": {
    "collapsed": true
   },
   "outputs": [],
   "source": [
    "#1b.\n",
    "# Difference between XML and HTML \n",
    "#XML is a framework for specifying markup languages, HTML is a predefined markup language\n",
    "#XML is case sensitive, HTML is not case sensitive "
   ]
  },
  {
   "cell_type": "code",
   "execution_count": 1,
   "metadata": {},
   "outputs": [
    {
     "name": "stderr",
     "output_type": "stream",
     "text": [
      "Installing package into ‘/home/aggarw67/R/scholar/3.6.1_gcc-6.3.0_obgeneric’\n",
      "(as ‘lib’ is unspecified)\n",
      "\n"
     ]
    }
   ],
   "source": [
    "#2a.\n",
    "install.packages(\"xml2\")"
   ]
  },
  {
   "cell_type": "code",
   "execution_count": 2,
   "metadata": {
    "collapsed": true
   },
   "outputs": [],
   "source": [
    "library(xml2)"
   ]
  },
  {
   "cell_type": "code",
   "execution_count": 3,
   "metadata": {
    "collapsed": true
   },
   "outputs": [],
   "source": [
    "Read = read_xml(\"http://aiweb.cs.washington.edu/research/projects/xmltk/xmldata/data/nasa/nasa.xml\")"
   ]
  },
  {
   "cell_type": "code",
   "execution_count": 4,
   "metadata": {},
   "outputs": [
    {
     "data": {
      "text/plain": [
       "{xml_document}\n",
       "<datasets>\n",
       " [1] <dataset xmlns:xlink=\"http://www.w3.org/XML/XLink/0.9\" subject=\"astronom ...\n",
       " [2] <dataset xmlns:xlink=\"http://www.w3.org/XML/XLink/0.9\" subject=\"astronom ...\n",
       " [3] <dataset xmlns:xlink=\"http://www.w3.org/XML/XLink/0.9\" subject=\"astronom ...\n",
       " [4] <dataset xmlns:xlink=\"http://www.w3.org/XML/XLink/0.9\" subject=\"astronom ...\n",
       " [5] <dataset xmlns:xlink=\"http://www.w3.org/XML/XLink/0.9\" subject=\"astronom ...\n",
       " [6] <dataset xmlns:xlink=\"http://www.w3.org/XML/XLink/0.9\" subject=\"astronom ...\n",
       " [7] <dataset xmlns:xlink=\"http://www.w3.org/XML/XLink/0.9\" subject=\"astronom ...\n",
       " [8] <dataset xmlns:xlink=\"http://www.w3.org/XML/XLink/0.9\" subject=\"astronom ...\n",
       " [9] <dataset xmlns:xlink=\"http://www.w3.org/XML/XLink/0.9\" subject=\"astronom ...\n",
       "[10] <dataset xmlns:xlink=\"http://www.w3.org/XML/XLink/0.9\" subject=\"astronom ...\n",
       "[11] <dataset xmlns:xlink=\"http://www.w3.org/XML/XLink/0.9\" subject=\"astronom ...\n",
       "[12] <dataset xmlns:xlink=\"http://www.w3.org/XML/XLink/0.9\" subject=\"astronom ...\n",
       "[13] <dataset xmlns:xlink=\"http://www.w3.org/XML/XLink/0.9\" subject=\"astronom ...\n",
       "[14] <dataset xmlns:xlink=\"http://www.w3.org/XML/XLink/0.9\" subject=\"astronom ...\n",
       "[15] <dataset xmlns:xlink=\"http://www.w3.org/XML/XLink/0.9\" subject=\"astronom ...\n",
       "[16] <dataset xmlns:xlink=\"http://www.w3.org/XML/XLink/0.9\" subject=\"astronom ...\n",
       "[17] <dataset xmlns:xlink=\"http://www.w3.org/XML/XLink/0.9\" subject=\"astronom ...\n",
       "[18] <dataset xmlns:xlink=\"http://www.w3.org/XML/XLink/0.9\" subject=\"astronom ...\n",
       "[19] <dataset xmlns:xlink=\"http://www.w3.org/XML/XLink/0.9\" subject=\"astronom ...\n",
       "[20] <dataset xmlns:xlink=\"http://www.w3.org/XML/XLink/0.9\" subject=\"astronom ...\n",
       "..."
      ]
     },
     "metadata": {},
     "output_type": "display_data"
    }
   ],
   "source": [
    "names = xml_root(Read)\n",
    "names"
   ]
  },
  {
   "cell_type": "code",
   "execution_count": 7,
   "metadata": {},
   "outputs": [
    {
     "data": {
      "text/html": [
       "'datasets'"
      ],
      "text/latex": [
       "'datasets'"
      ],
      "text/markdown": [
       "'datasets'"
      ],
      "text/plain": [
       "[1] \"datasets\""
      ]
     },
     "metadata": {},
     "output_type": "display_data"
    },
    {
     "data": {
      "text/html": [
       "2435"
      ],
      "text/latex": [
       "2435"
      ],
      "text/markdown": [
       "2435"
      ],
      "text/plain": [
       "[1] 2435"
      ]
     },
     "metadata": {},
     "output_type": "display_data"
    }
   ],
   "source": [
    "xml_name(Read)\n",
    "xml_length(Read)"
   ]
  },
  {
   "cell_type": "code",
   "execution_count": null,
   "metadata": {
    "collapsed": true
   },
   "outputs": [],
   "source": [
    "#2b.\n",
    "#The first 10 are the same\n",
    "#They are all datasets\n",
    "#They are all about astronomy"
   ]
  },
  {
   "cell_type": "code",
   "execution_count": 8,
   "metadata": {},
   "outputs": [
    {
     "data": {
      "text/plain": [
       "{xml_nodeset (2435)}\n",
       " [1] <dataset xmlns:xlink=\"http://www.w3.org/XML/XLink/0.9\" subject=\"astronom ...\n",
       " [2] <dataset xmlns:xlink=\"http://www.w3.org/XML/XLink/0.9\" subject=\"astronom ...\n",
       " [3] <dataset xmlns:xlink=\"http://www.w3.org/XML/XLink/0.9\" subject=\"astronom ...\n",
       " [4] <dataset xmlns:xlink=\"http://www.w3.org/XML/XLink/0.9\" subject=\"astronom ...\n",
       " [5] <dataset xmlns:xlink=\"http://www.w3.org/XML/XLink/0.9\" subject=\"astronom ...\n",
       " [6] <dataset xmlns:xlink=\"http://www.w3.org/XML/XLink/0.9\" subject=\"astronom ...\n",
       " [7] <dataset xmlns:xlink=\"http://www.w3.org/XML/XLink/0.9\" subject=\"astronom ...\n",
       " [8] <dataset xmlns:xlink=\"http://www.w3.org/XML/XLink/0.9\" subject=\"astronom ...\n",
       " [9] <dataset xmlns:xlink=\"http://www.w3.org/XML/XLink/0.9\" subject=\"astronom ...\n",
       "[10] <dataset xmlns:xlink=\"http://www.w3.org/XML/XLink/0.9\" subject=\"astronom ...\n",
       "[11] <dataset xmlns:xlink=\"http://www.w3.org/XML/XLink/0.9\" subject=\"astronom ...\n",
       "[12] <dataset xmlns:xlink=\"http://www.w3.org/XML/XLink/0.9\" subject=\"astronom ...\n",
       "[13] <dataset xmlns:xlink=\"http://www.w3.org/XML/XLink/0.9\" subject=\"astronom ...\n",
       "[14] <dataset xmlns:xlink=\"http://www.w3.org/XML/XLink/0.9\" subject=\"astronom ...\n",
       "[15] <dataset xmlns:xlink=\"http://www.w3.org/XML/XLink/0.9\" subject=\"astronom ...\n",
       "[16] <dataset xmlns:xlink=\"http://www.w3.org/XML/XLink/0.9\" subject=\"astronom ...\n",
       "[17] <dataset xmlns:xlink=\"http://www.w3.org/XML/XLink/0.9\" subject=\"astronom ...\n",
       "[18] <dataset xmlns:xlink=\"http://www.w3.org/XML/XLink/0.9\" subject=\"astronom ...\n",
       "[19] <dataset xmlns:xlink=\"http://www.w3.org/XML/XLink/0.9\" subject=\"astronom ...\n",
       "[20] <dataset xmlns:xlink=\"http://www.w3.org/XML/XLink/0.9\" subject=\"astronom ...\n",
       "..."
      ]
     },
     "metadata": {},
     "output_type": "display_data"
    }
   ],
   "source": [
    "children_xml = xml_children(Read)\n",
    "children_xml"
   ]
  },
  {
   "cell_type": "code",
   "execution_count": 9,
   "metadata": {},
   "outputs": [
    {
     "data": {
      "text/html": [
       "<ol class=list-inline>\n",
       "\t<li>'dataset'</li>\n",
       "\t<li>'dataset'</li>\n",
       "\t<li>'dataset'</li>\n",
       "\t<li>'dataset'</li>\n",
       "\t<li>'dataset'</li>\n",
       "\t<li>'dataset'</li>\n",
       "\t<li>'dataset'</li>\n",
       "\t<li>'dataset'</li>\n",
       "\t<li>'dataset'</li>\n",
       "\t<li>'dataset'</li>\n",
       "</ol>\n"
      ],
      "text/latex": [
       "\\begin{enumerate*}\n",
       "\\item 'dataset'\n",
       "\\item 'dataset'\n",
       "\\item 'dataset'\n",
       "\\item 'dataset'\n",
       "\\item 'dataset'\n",
       "\\item 'dataset'\n",
       "\\item 'dataset'\n",
       "\\item 'dataset'\n",
       "\\item 'dataset'\n",
       "\\item 'dataset'\n",
       "\\end{enumerate*}\n"
      ],
      "text/markdown": [
       "1. 'dataset'\n",
       "2. 'dataset'\n",
       "3. 'dataset'\n",
       "4. 'dataset'\n",
       "5. 'dataset'\n",
       "6. 'dataset'\n",
       "7. 'dataset'\n",
       "8. 'dataset'\n",
       "9. 'dataset'\n",
       "10. 'dataset'\n",
       "\n",
       "\n"
      ],
      "text/plain": [
       " [1] \"dataset\" \"dataset\" \"dataset\" \"dataset\" \"dataset\" \"dataset\" \"dataset\"\n",
       " [8] \"dataset\" \"dataset\" \"dataset\""
      ]
     },
     "metadata": {},
     "output_type": "display_data"
    }
   ],
   "source": [
    "sapply(1:10, function(i) xml_name(children_xml[[i]]))"
   ]
  },
  {
   "cell_type": "code",
   "execution_count": 17,
   "metadata": {},
   "outputs": [
    {
     "data": {
      "text/html": [
       "<strong>Catalogue of 20554 Faint Stars in the Cape Astrographic Zone -40 to -52 Degrees\n",
       "for the Equinox of 1900.0:</strong> 4"
      ],
      "text/latex": [
       "\\textbf{Catalogue of 20554 Faint Stars in the Cape Astrographic Zone -40 to -52 Degrees\n",
       "for the Equinox of 1900.0:} 4"
      ],
      "text/markdown": [
       "**Catalogue of 20554 Faint Stars in the Cape Astrographic Zone -40 to -52 Degrees\n",
       "for the Equinox of 1900.0:** 4"
      ],
      "text/plain": [
       "Catalogue of 20554 Faint Stars in the Cape Astrographic Zone -40 to -52 Degrees\\nfor the Equinox of 1900.0 \n",
       "                                                                                                         4 "
      ]
     },
     "metadata": {},
     "output_type": "display_data"
    }
   ],
   "source": [
    "#3a.\n",
    "C <- function(X) {\n",
    "    x_split = strsplit((X), \"\")\n",
    "    lengths(x_split)\n",
    "}\n",
    "nasa_explore <- function(children) {\n",
    "    title_names_find = xml_find_all(children, \".//title\")\n",
    "    name = xml_text(title_names_find)\n",
    "    count_value = sapply(head(name), count)\n",
    "    \n",
    "    return(count_value)\n",
    "}\n",
    "nasa_result = nasa_explore(children_xml)\n",
    "title_longest = which.max(nasa_result)\n",
    "title_longest"
   ]
  },
  {
   "cell_type": "code",
   "execution_count": 16,
   "metadata": {},
   "outputs": [
    {
     "data": {
      "text/html": [
       "<table>\n",
       "<caption>A data.frame: 6 × 2</caption>\n",
       "<thead>\n",
       "\t<tr><th></th><th scope=col>subject_title_name</th><th scope=col>name_title</th></tr>\n",
       "\t<tr><th></th><th scope=col>&lt;fct&gt;</th><th scope=col>&lt;fct&gt;</th></tr>\n",
       "</thead>\n",
       "<tbody>\n",
       "\t<tr><th scope=row>1</th><td>This catalog, listing the proper motions of 20,843 stars\n",
       "    from the Cape Astrographic Zones, was compiled from three series of\n",
       "    photographic plates. The plates were taken at the Royal Observatory,\n",
       "    Cape of Good Hope, in the following years: 1892-1896, 1897-1910,\n",
       "    1923-1928. Data given include centennial proper motion, photographic\n",
       "    and visual magnitude, Harvard spectral type, Cape Photographic\n",
       "    Durchmusterung (CPD) identification, epoch, right ascension and\n",
       "    declination for 1900.                                                                                                                                                                                                                                                                                                                                                                                                                                                                                                                                                                                                                                                                                                                                                                                                                                                                                                                                                                                                                                                                                                                                                                                                  </td><td>Proper Motions of Stars in the Zone Catalogue -40 to -52 degrees\n",
       "of 20843 Stars for 1900                 </td></tr>\n",
       "\t<tr><th scope=row>2</th><td>This catalog contains positions, precessions, proper motions, and\n",
       "  photographic magnitudes for 20,554 stars.  These were derived from\n",
       "  photographs taken at the Royal Observatory, Cape of Good Hope between 1923\n",
       "  and 1928.  It covers the astrographic zones -40 degrees to -52 degrees of\n",
       "  declination.  The positions are given for epoch 1900 (1900.0).  It includes\n",
       "  spectral types for many of the stars listed.  It extends the earlier\n",
       "  catalogs derived from the same plates to fainter magnitudes.  The\n",
       "  computer-readable version consists of a single data table.The stated probable error for the star positions is 0.024 seconds of time\n",
       "  (R.A.) and 0.25 seconds of arc (dec.) for stars with one determination,\n",
       "  0.017 seconds of time, and 0.18 seconds of arc for two determinations, and\n",
       "  0.014 / 0.15 for stars with three determinations.The precession and secular variations were derived from Newcomb's constants.The authors quote probable errors of the proper motions in both coordinates\n",
       "  of 0.008 seconds of arc for stars with one determination, 0.0055 seconds for\n",
       "  stars with two determinations, and 0.0044 for stars with three.The photographic magnitudes were derived from the measured diameters on the\n",
       "  photographic plates and from the magnitudes given in the Cape Photographic\n",
       "  Durchmusterung.The spectral classification of the cataloged stars was done with the\n",
       "  assistance of Annie Jump Cannon of the Harvard College Observatory.The user should consult the source reference for more details of the\n",
       "  measurements and reductions.  See also the notes in this document for\n",
       "  additional information on the interpretation of the entries.</td><td>Catalogue of 20554 Faint Stars in the Cape Astrographic Zone -40 to -52 Degrees\n",
       "for the Equinox of 1900.0</td></tr>\n",
       "\t<tr><th scope=row>3</th><td>Improved proper motions for the 1160 stars contained in the photometric\n",
       "   catalog by Dickow et al. (1970) are presented. Most of the proper motions\n",
       "   are from the GC, transferred to the system of FK4. For stars not included\n",
       "   in the GC, preliminary AGK or SAO proper motions are given. Fogh Olsen\n",
       "   (Astron. Astrophys. Suppl. Ser., 1, 189, 1970) describes the method of\n",
       "   improvement. The mean errors of the centennial proper motions increase with\n",
       "   increasing magnitude. In Right Ascension, these range from 0.0043/cos(dec)\n",
       "   for very bright stars to 0.096/cos(dec) for the faintest stars. In Dec-\n",
       "   lination, the range is from 0.065 to 1.14.                                                                                                                                                                                                                                                                                                                                                                                                                                                                                                                                                                                                                                                                                                                                                                                                                                                                                                                                                                                                                                              </td><td>Proper Motions of 1160 Late-Type Stars                                                                    </td></tr>\n",
       "\t<tr><th scope=row>4</th><td>This catalog of 3356 faint stars was derived from meridian circle\n",
       "   observations at the Bergedorf and Heidelberg Observatories. The\n",
       "   positions are given for the equinox 1950 on the FK3 system. The stars\n",
       "   are mainly between 8.0 and 10.0 visual magnitude. A few are brighter\n",
       "   than 8.0 mag. The lower limit in brightness resulted from the visibility\n",
       "   of the stars.All stars were observed at both the Heidelberg and Bergedorf\n",
       "   Observatories. Normally, at each observatory, two observations were\n",
       "   obtained with the clamp east and two with the clamp west. The mean\n",
       "   errors are comparable for the two observatories with no significant\n",
       "   systematic difference in the positions between them. The mean errors of\n",
       "   the resulting positions should be approximated 0.011s/cos(dec) in right\n",
       "   ascension and ).023\" in declination.The proper motions were derived from a comparison with the catalog\n",
       "   positions with the positions in the AGK2 and AGK2A with a 19 year\n",
       "   baseline and from a comparison of new positions with those in Kuestner\n",
       "   1900 with about a fifty year baseline.The magnitudes were taken from the AGK2. Most spectral types were\n",
       "   determined by A. N. Vyssotsky. A few are from the Bergedorfer\n",
       "   Spektraldurchmusterung.                                                                                                                                                                                                                                                                                                                                                                                                                         </td><td>Katalog von 3356 Schwachen Sternen fuer das Aequinoktium 1950\n",
       "+89 degrees                                </td></tr>\n",
       "\t<tr><th scope=row>5</th><td>The \"Carte de Ciel\" (or \"Astrographic Catalogue\") is a catalogue of star\n",
       "   positions and magnitudes, determined on the photographic plates taken\n",
       "   by the normal astrographs which are installed in observatories of various\n",
       "   latitudes, as a world-wide astronomical project (see Eichhorn, 1974, p279).\n",
       "   The catalogue is divided into 22 declination zones, each of which is\n",
       "   assigned to each observatory, e.g., a zone from +18 to +24 degrees is to\n",
       "   Paris observatory.\n",
       "   Each observatory has taken photographs of 2 deg x 2 deg area in and covering\n",
       "   each zone, measured the X,Y coordinates of star images on the photographic\n",
       "   plates, and published the results as the printed catalogues.\n",
       "   The present catalogue is the results of reduction of these X,Y coordinates\n",
       "   into right ascension and declination values, for declination zones of +05\n",
       "   to +31, by using AGK2/3 catalogue as the reference.                                                                                                                                                                                                                                                                                                                                                                                                                                                                                                                                                                                                                                                                                                                                                                              </td><td>Astrographic Catalogue                                                                                    </td></tr>\n",
       "\t<tr><th scope=row>6</th><td>The \"Carte de Ciel\" (or \"Astrographic Catalogue\") is a catalogue of star\n",
       "   positions and magnitudes, determined on the photographic plates taken\n",
       "   by the normal astrographs which are installed in observatories of various\n",
       "   latitudes, as a world-wide astronomical project (see Eichhorn, 1974, p279).\n",
       "   The catalogue is divided into 22 declination zones, each of which is\n",
       "   assigned to each observatory, e.g., a zone from +18 to +24 degrees is to\n",
       "   Paris observatory.\n",
       "   Each observatory has taken photographs of 2 deg x 2 deg area in and covering\n",
       "   each zone, measured the X,Y coordinates of star images on the photographic\n",
       "   plates, and published the results as the printed catalogues.\n",
       "   The present catalogue is the results of reduction of these X,Y coordinates\n",
       "   into right ascension and declination values, for declination zones of +05\n",
       "   to +31, by using AGK2/3 catalogue as the reference.                                                                                                                                                                                                                                                                                                                                                                                                                                                                                                                                                                                                                                                                                                                                                                              </td><td>Astrographic Catalogue                                                                                    </td></tr>\n",
       "</tbody>\n",
       "</table>\n"
      ],
      "text/latex": [
       "A data.frame: 6 × 2\n",
       "\\begin{tabular}{r|ll}\n",
       "  & subject\\_title\\_name & name\\_title\\\\\n",
       "  & <fct> & <fct>\\\\\n",
       "\\hline\n",
       "\t1 & This catalog, listing the proper motions of 20,843 stars\n",
       "    from the Cape Astrographic Zones, was compiled from three series of\n",
       "    photographic plates. The plates were taken at the Royal Observatory,\n",
       "    Cape of Good Hope, in the following years: 1892-1896, 1897-1910,\n",
       "    1923-1928. Data given include centennial proper motion, photographic\n",
       "    and visual magnitude, Harvard spectral type, Cape Photographic\n",
       "    Durchmusterung (CPD) identification, epoch, right ascension and\n",
       "    declination for 1900.                                                                                                                                                                                                                                                                                                                                                                                                                                                                                                                                                                                                                                                                                                                                                                                                                                                                                                                                                                                                                                                                                                                                                                                                   & Proper Motions of Stars in the Zone Catalogue -40 to -52 degrees\n",
       "of 20843 Stars for 1900                 \\\\\n",
       "\t2 & This catalog contains positions, precessions, proper motions, and\n",
       "  photographic magnitudes for 20,554 stars.  These were derived from\n",
       "  photographs taken at the Royal Observatory, Cape of Good Hope between 1923\n",
       "  and 1928.  It covers the astrographic zones -40 degrees to -52 degrees of\n",
       "  declination.  The positions are given for epoch 1900 (1900.0).  It includes\n",
       "  spectral types for many of the stars listed.  It extends the earlier\n",
       "  catalogs derived from the same plates to fainter magnitudes.  The\n",
       "  computer-readable version consists of a single data table.The stated probable error for the star positions is 0.024 seconds of time\n",
       "  (R.A.) and 0.25 seconds of arc (dec.) for stars with one determination,\n",
       "  0.017 seconds of time, and 0.18 seconds of arc for two determinations, and\n",
       "  0.014 / 0.15 for stars with three determinations.The precession and secular variations were derived from Newcomb's constants.The authors quote probable errors of the proper motions in both coordinates\n",
       "  of 0.008 seconds of arc for stars with one determination, 0.0055 seconds for\n",
       "  stars with two determinations, and 0.0044 for stars with three.The photographic magnitudes were derived from the measured diameters on the\n",
       "  photographic plates and from the magnitudes given in the Cape Photographic\n",
       "  Durchmusterung.The spectral classification of the cataloged stars was done with the\n",
       "  assistance of Annie Jump Cannon of the Harvard College Observatory.The user should consult the source reference for more details of the\n",
       "  measurements and reductions.  See also the notes in this document for\n",
       "  additional information on the interpretation of the entries. & Catalogue of 20554 Faint Stars in the Cape Astrographic Zone -40 to -52 Degrees\n",
       "for the Equinox of 1900.0\\\\\n",
       "\t3 & Improved proper motions for the 1160 stars contained in the photometric\n",
       "   catalog by Dickow et al. (1970) are presented. Most of the proper motions\n",
       "   are from the GC, transferred to the system of FK4. For stars not included\n",
       "   in the GC, preliminary AGK or SAO proper motions are given. Fogh Olsen\n",
       "   (Astron. Astrophys. Suppl. Ser., 1, 189, 1970) describes the method of\n",
       "   improvement. The mean errors of the centennial proper motions increase with\n",
       "   increasing magnitude. In Right Ascension, these range from 0.0043/cos(dec)\n",
       "   for very bright stars to 0.096/cos(dec) for the faintest stars. In Dec-\n",
       "   lination, the range is from 0.065 to 1.14.                                                                                                                                                                                                                                                                                                                                                                                                                                                                                                                                                                                                                                                                                                                                                                                                                                                                                                                                                                                                                                               & Proper Motions of 1160 Late-Type Stars                                                                    \\\\\n",
       "\t4 & This catalog of 3356 faint stars was derived from meridian circle\n",
       "   observations at the Bergedorf and Heidelberg Observatories. The\n",
       "   positions are given for the equinox 1950 on the FK3 system. The stars\n",
       "   are mainly between 8.0 and 10.0 visual magnitude. A few are brighter\n",
       "   than 8.0 mag. The lower limit in brightness resulted from the visibility\n",
       "   of the stars.All stars were observed at both the Heidelberg and Bergedorf\n",
       "   Observatories. Normally, at each observatory, two observations were\n",
       "   obtained with the clamp east and two with the clamp west. The mean\n",
       "   errors are comparable for the two observatories with no significant\n",
       "   systematic difference in the positions between them. The mean errors of\n",
       "   the resulting positions should be approximated 0.011s/cos(dec) in right\n",
       "   ascension and ).023\" in declination.The proper motions were derived from a comparison with the catalog\n",
       "   positions with the positions in the AGK2 and AGK2A with a 19 year\n",
       "   baseline and from a comparison of new positions with those in Kuestner\n",
       "   1900 with about a fifty year baseline.The magnitudes were taken from the AGK2. Most spectral types were\n",
       "   determined by A. N. Vyssotsky. A few are from the Bergedorfer\n",
       "   Spektraldurchmusterung.                                                                                                                                                                                                                                                                                                                                                                                                                          & Katalog von 3356 Schwachen Sternen fuer das Aequinoktium 1950\n",
       "+89 degrees                                \\\\\n",
       "\t5 & The \"Carte de Ciel\" (or \"Astrographic Catalogue\") is a catalogue of star\n",
       "   positions and magnitudes, determined on the photographic plates taken\n",
       "   by the normal astrographs which are installed in observatories of various\n",
       "   latitudes, as a world-wide astronomical project (see Eichhorn, 1974, p279).\n",
       "   The catalogue is divided into 22 declination zones, each of which is\n",
       "   assigned to each observatory, e.g., a zone from +18 to +24 degrees is to\n",
       "   Paris observatory.\n",
       "   Each observatory has taken photographs of 2 deg x 2 deg area in and covering\n",
       "   each zone, measured the X,Y coordinates of star images on the photographic\n",
       "   plates, and published the results as the printed catalogues.\n",
       "   The present catalogue is the results of reduction of these X,Y coordinates\n",
       "   into right ascension and declination values, for declination zones of +05\n",
       "   to +31, by using AGK2/3 catalogue as the reference.                                                                                                                                                                                                                                                                                                                                                                                                                                                                                                                                                                                                                                                                                                                                                                               & Astrographic Catalogue                                                                                    \\\\\n",
       "\t6 & The \"Carte de Ciel\" (or \"Astrographic Catalogue\") is a catalogue of star\n",
       "   positions and magnitudes, determined on the photographic plates taken\n",
       "   by the normal astrographs which are installed in observatories of various\n",
       "   latitudes, as a world-wide astronomical project (see Eichhorn, 1974, p279).\n",
       "   The catalogue is divided into 22 declination zones, each of which is\n",
       "   assigned to each observatory, e.g., a zone from +18 to +24 degrees is to\n",
       "   Paris observatory.\n",
       "   Each observatory has taken photographs of 2 deg x 2 deg area in and covering\n",
       "   each zone, measured the X,Y coordinates of star images on the photographic\n",
       "   plates, and published the results as the printed catalogues.\n",
       "   The present catalogue is the results of reduction of these X,Y coordinates\n",
       "   into right ascension and declination values, for declination zones of +05\n",
       "   to +31, by using AGK2/3 catalogue as the reference.                                                                                                                                                                                                                                                                                                                                                                                                                                                                                                                                                                                                                                                                                                                                                                               & Astrographic Catalogue                                                                                    \\\\\n",
       "\\end{tabular}\n"
      ],
      "text/markdown": [
       "\n",
       "A data.frame: 6 × 2\n",
       "\n",
       "| <!--/--> | subject_title_name &lt;fct&gt; | name_title &lt;fct&gt; |\n",
       "|---|---|---|\n",
       "| 1 | This catalog, listing the proper motions of 20,843 stars\n",
       "    from the Cape Astrographic Zones, was compiled from three series of\n",
       "    photographic plates. The plates were taken at the Royal Observatory,\n",
       "    Cape of Good Hope, in the following years: 1892-1896, 1897-1910,\n",
       "    1923-1928. Data given include centennial proper motion, photographic\n",
       "    and visual magnitude, Harvard spectral type, Cape Photographic\n",
       "    Durchmusterung (CPD) identification, epoch, right ascension and\n",
       "    declination for 1900.                                                                                                                                                                                                                                                                                                                                                                                                                                                                                                                                                                                                                                                                                                                                                                                                                                                                                                                                                                                                                                                                                                                                                                                                   | Proper Motions of Stars in the Zone Catalogue -40 to -52 degrees\n",
       "of 20843 Stars for 1900                  |\n",
       "| 2 | This catalog contains positions, precessions, proper motions, and\n",
       "  photographic magnitudes for 20,554 stars.  These were derived from\n",
       "  photographs taken at the Royal Observatory, Cape of Good Hope between 1923\n",
       "  and 1928.  It covers the astrographic zones -40 degrees to -52 degrees of\n",
       "  declination.  The positions are given for epoch 1900 (1900.0).  It includes\n",
       "  spectral types for many of the stars listed.  It extends the earlier\n",
       "  catalogs derived from the same plates to fainter magnitudes.  The\n",
       "  computer-readable version consists of a single data table.The stated probable error for the star positions is 0.024 seconds of time\n",
       "  (R.A.) and 0.25 seconds of arc (dec.) for stars with one determination,\n",
       "  0.017 seconds of time, and 0.18 seconds of arc for two determinations, and\n",
       "  0.014 / 0.15 for stars with three determinations.The precession and secular variations were derived from Newcomb's constants.The authors quote probable errors of the proper motions in both coordinates\n",
       "  of 0.008 seconds of arc for stars with one determination, 0.0055 seconds for\n",
       "  stars with two determinations, and 0.0044 for stars with three.The photographic magnitudes were derived from the measured diameters on the\n",
       "  photographic plates and from the magnitudes given in the Cape Photographic\n",
       "  Durchmusterung.The spectral classification of the cataloged stars was done with the\n",
       "  assistance of Annie Jump Cannon of the Harvard College Observatory.The user should consult the source reference for more details of the\n",
       "  measurements and reductions.  See also the notes in this document for\n",
       "  additional information on the interpretation of the entries. | Catalogue of 20554 Faint Stars in the Cape Astrographic Zone -40 to -52 Degrees\n",
       "for the Equinox of 1900.0 |\n",
       "| 3 | Improved proper motions for the 1160 stars contained in the photometric\n",
       "   catalog by Dickow et al. (1970) are presented. Most of the proper motions\n",
       "   are from the GC, transferred to the system of FK4. For stars not included\n",
       "   in the GC, preliminary AGK or SAO proper motions are given. Fogh Olsen\n",
       "   (Astron. Astrophys. Suppl. Ser., 1, 189, 1970) describes the method of\n",
       "   improvement. The mean errors of the centennial proper motions increase with\n",
       "   increasing magnitude. In Right Ascension, these range from 0.0043/cos(dec)\n",
       "   for very bright stars to 0.096/cos(dec) for the faintest stars. In Dec-\n",
       "   lination, the range is from 0.065 to 1.14.                                                                                                                                                                                                                                                                                                                                                                                                                                                                                                                                                                                                                                                                                                                                                                                                                                                                                                                                                                                                                                               | Proper Motions of 1160 Late-Type Stars                                                                     |\n",
       "| 4 | This catalog of 3356 faint stars was derived from meridian circle\n",
       "   observations at the Bergedorf and Heidelberg Observatories. The\n",
       "   positions are given for the equinox 1950 on the FK3 system. The stars\n",
       "   are mainly between 8.0 and 10.0 visual magnitude. A few are brighter\n",
       "   than 8.0 mag. The lower limit in brightness resulted from the visibility\n",
       "   of the stars.All stars were observed at both the Heidelberg and Bergedorf\n",
       "   Observatories. Normally, at each observatory, two observations were\n",
       "   obtained with the clamp east and two with the clamp west. The mean\n",
       "   errors are comparable for the two observatories with no significant\n",
       "   systematic difference in the positions between them. The mean errors of\n",
       "   the resulting positions should be approximated 0.011s/cos(dec) in right\n",
       "   ascension and ).023\" in declination.The proper motions were derived from a comparison with the catalog\n",
       "   positions with the positions in the AGK2 and AGK2A with a 19 year\n",
       "   baseline and from a comparison of new positions with those in Kuestner\n",
       "   1900 with about a fifty year baseline.The magnitudes were taken from the AGK2. Most spectral types were\n",
       "   determined by A. N. Vyssotsky. A few are from the Bergedorfer\n",
       "   Spektraldurchmusterung.                                                                                                                                                                                                                                                                                                                                                                                                                          | Katalog von 3356 Schwachen Sternen fuer das Aequinoktium 1950\n",
       "+89 degrees                                 |\n",
       "| 5 | The \"Carte de Ciel\" (or \"Astrographic Catalogue\") is a catalogue of star\n",
       "   positions and magnitudes, determined on the photographic plates taken\n",
       "   by the normal astrographs which are installed in observatories of various\n",
       "   latitudes, as a world-wide astronomical project (see Eichhorn, 1974, p279).\n",
       "   The catalogue is divided into 22 declination zones, each of which is\n",
       "   assigned to each observatory, e.g., a zone from +18 to +24 degrees is to\n",
       "   Paris observatory.\n",
       "   Each observatory has taken photographs of 2 deg x 2 deg area in and covering\n",
       "   each zone, measured the X,Y coordinates of star images on the photographic\n",
       "   plates, and published the results as the printed catalogues.\n",
       "   The present catalogue is the results of reduction of these X,Y coordinates\n",
       "   into right ascension and declination values, for declination zones of +05\n",
       "   to +31, by using AGK2/3 catalogue as the reference.                                                                                                                                                                                                                                                                                                                                                                                                                                                                                                                                                                                                                                                                                                                                                                               | Astrographic Catalogue                                                                                     |\n",
       "| 6 | The \"Carte de Ciel\" (or \"Astrographic Catalogue\") is a catalogue of star\n",
       "   positions and magnitudes, determined on the photographic plates taken\n",
       "   by the normal astrographs which are installed in observatories of various\n",
       "   latitudes, as a world-wide astronomical project (see Eichhorn, 1974, p279).\n",
       "   The catalogue is divided into 22 declination zones, each of which is\n",
       "   assigned to each observatory, e.g., a zone from +18 to +24 degrees is to\n",
       "   Paris observatory.\n",
       "   Each observatory has taken photographs of 2 deg x 2 deg area in and covering\n",
       "   each zone, measured the X,Y coordinates of star images on the photographic\n",
       "   plates, and published the results as the printed catalogues.\n",
       "   The present catalogue is the results of reduction of these X,Y coordinates\n",
       "   into right ascension and declination values, for declination zones of +05\n",
       "   to +31, by using AGK2/3 catalogue as the reference.                                                                                                                                                                                                                                                                                                                                                                                                                                                                                                                                                                                                                                                                                                                                                                               | Astrographic Catalogue                                                                                     |\n",
       "\n"
      ],
      "text/plain": [
       "  subject_title_name                                                                                                                                                                                                                                                                                                                                                                                                                                                                                                                                                                                                                                                                                                                                                                                                                                                                                                                                                                                                                                                                                                                                                                                                                                                                                                                                                                                                                                                                                                                                                                                                                                                                                                               \n",
       "1 This catalog, listing the proper motions of 20,843 stars\\n    from the Cape Astrographic Zones, was compiled from three series of\\n    photographic plates. The plates were taken at the Royal Observatory,\\n    Cape of Good Hope, in the following years: 1892-1896, 1897-1910,\\n    1923-1928. Data given include centennial proper motion, photographic\\n    and visual magnitude, Harvard spectral type, Cape Photographic\\n    Durchmusterung (CPD) identification, epoch, right ascension and\\n    declination for 1900.                                                                                                                                                                                                                                                                                                                                                                                                                                                                                                                                                                                                                                                                                                                                                                                                                                                                                                                                                                                                                                                                                                                                                                                                  \n",
       "2 This catalog contains positions, precessions, proper motions, and\\n  photographic magnitudes for 20,554 stars.  These were derived from\\n  photographs taken at the Royal Observatory, Cape of Good Hope between 1923\\n  and 1928.  It covers the astrographic zones -40 degrees to -52 degrees of\\n  declination.  The positions are given for epoch 1900 (1900.0).  It includes\\n  spectral types for many of the stars listed.  It extends the earlier\\n  catalogs derived from the same plates to fainter magnitudes.  The\\n  computer-readable version consists of a single data table.The stated probable error for the star positions is 0.024 seconds of time\\n  (R.A.) and 0.25 seconds of arc (dec.) for stars with one determination,\\n  0.017 seconds of time, and 0.18 seconds of arc for two determinations, and\\n  0.014 / 0.15 for stars with three determinations.The precession and secular variations were derived from Newcomb's constants.The authors quote probable errors of the proper motions in both coordinates\\n  of 0.008 seconds of arc for stars with one determination, 0.0055 seconds for\\n  stars with two determinations, and 0.0044 for stars with three.The photographic magnitudes were derived from the measured diameters on the\\n  photographic plates and from the magnitudes given in the Cape Photographic\\n  Durchmusterung.The spectral classification of the cataloged stars was done with the\\n  assistance of Annie Jump Cannon of the Harvard College Observatory.The user should consult the source reference for more details of the\\n  measurements and reductions.  See also the notes in this document for\\n  additional information on the interpretation of the entries.\n",
       "3 Improved proper motions for the 1160 stars contained in the photometric\\n   catalog by Dickow et al. (1970) are presented. Most of the proper motions\\n   are from the GC, transferred to the system of FK4. For stars not included\\n   in the GC, preliminary AGK or SAO proper motions are given. Fogh Olsen\\n   (Astron. Astrophys. Suppl. Ser., 1, 189, 1970) describes the method of\\n   improvement. The mean errors of the centennial proper motions increase with\\n   increasing magnitude. In Right Ascension, these range from 0.0043/cos(dec)\\n   for very bright stars to 0.096/cos(dec) for the faintest stars. In Dec-\\n   lination, the range is from 0.065 to 1.14.                                                                                                                                                                                                                                                                                                                                                                                                                                                                                                                                                                                                                                                                                                                                                                                                                                                                                                                                                                                                                                              \n",
       "4 This catalog of 3356 faint stars was derived from meridian circle\\n   observations at the Bergedorf and Heidelberg Observatories. The\\n   positions are given for the equinox 1950 on the FK3 system. The stars\\n   are mainly between 8.0 and 10.0 visual magnitude. A few are brighter\\n   than 8.0 mag. The lower limit in brightness resulted from the visibility\\n   of the stars.All stars were observed at both the Heidelberg and Bergedorf\\n   Observatories. Normally, at each observatory, two observations were\\n   obtained with the clamp east and two with the clamp west. The mean\\n   errors are comparable for the two observatories with no significant\\n   systematic difference in the positions between them. The mean errors of\\n   the resulting positions should be approximated 0.011s/cos(dec) in right\\n   ascension and ).023\" in declination.The proper motions were derived from a comparison with the catalog\\n   positions with the positions in the AGK2 and AGK2A with a 19 year\\n   baseline and from a comparison of new positions with those in Kuestner\\n   1900 with about a fifty year baseline.The magnitudes were taken from the AGK2. Most spectral types were\\n   determined by A. N. Vyssotsky. A few are from the Bergedorfer\\n   Spektraldurchmusterung.                                                                                                                                                                                                                                                                                                                                                                                                                         \n",
       "5 The \"Carte de Ciel\" (or \"Astrographic Catalogue\") is a catalogue of star\\n   positions and magnitudes, determined on the photographic plates taken\\n   by the normal astrographs which are installed in observatories of various\\n   latitudes, as a world-wide astronomical project (see Eichhorn, 1974, p279).\\n   The catalogue is divided into 22 declination zones, each of which is\\n   assigned to each observatory, e.g., a zone from +18 to +24 degrees is to\\n   Paris observatory.\\n   Each observatory has taken photographs of 2 deg x 2 deg area in and covering\\n   each zone, measured the X,Y coordinates of star images on the photographic\\n   plates, and published the results as the printed catalogues.\\n   The present catalogue is the results of reduction of these X,Y coordinates\\n   into right ascension and declination values, for declination zones of +05\\n   to +31, by using AGK2/3 catalogue as the reference.                                                                                                                                                                                                                                                                                                                                                                                                                                                                                                                                                                                                                                                                                                                                                                              \n",
       "6 The \"Carte de Ciel\" (or \"Astrographic Catalogue\") is a catalogue of star\\n   positions and magnitudes, determined on the photographic plates taken\\n   by the normal astrographs which are installed in observatories of various\\n   latitudes, as a world-wide astronomical project (see Eichhorn, 1974, p279).\\n   The catalogue is divided into 22 declination zones, each of which is\\n   assigned to each observatory, e.g., a zone from +18 to +24 degrees is to\\n   Paris observatory.\\n   Each observatory has taken photographs of 2 deg x 2 deg area in and covering\\n   each zone, measured the X,Y coordinates of star images on the photographic\\n   plates, and published the results as the printed catalogues.\\n   The present catalogue is the results of reduction of these X,Y coordinates\\n   into right ascension and declination values, for declination zones of +05\\n   to +31, by using AGK2/3 catalogue as the reference.                                                                                                                                                                                                                                                                                                                                                                                                                                                                                                                                                                                                                                                                                                                                                                              \n",
       "  name_title                                                                                                \n",
       "1 Proper Motions of Stars in the Zone Catalogue -40 to -52 degrees\\nof 20843 Stars for 1900                 \n",
       "2 Catalogue of 20554 Faint Stars in the Cape Astrographic Zone -40 to -52 Degrees\\nfor the Equinox of 1900.0\n",
       "3 Proper Motions of 1160 Late-Type Stars                                                                    \n",
       "4 Katalog von 3356 Schwachen Sternen fuer das Aequinoktium 1950\\n+89 degrees                                \n",
       "5 Astrographic Catalogue                                                                                    \n",
       "6 Astrographic Catalogue                                                                                    "
      ]
     },
     "metadata": {},
     "output_type": "display_data"
    }
   ],
   "source": [
    "#3b.\n",
    "name_title_find_subject = xml_find_all(children_xml, 'descriptions')\n",
    "subject_title_name = xml_text(name_title_find_subject)\n",
    "\n",
    "name_title_find_title = xml_find_all(children_xml, 'title')\n",
    "name_title = xml_text(name_title_find_title)\n",
    "\n",
    "myDF <- data.frame(subject_title_name, name_title )\n",
    "head(myDF)"
   ]
  },
  {
   "cell_type": "code",
   "execution_count": null,
   "metadata": {
    "collapsed": true
   },
   "outputs": [],
   "source": []
  }
 ],
 "metadata": {
  "kernelspec": {
   "display_name": "R 3.6 (Scholar)",
   "language": "R",
   "name": "ir-3.6-scholar"
  },
  "language_info": {
   "codemirror_mode": "r",
   "file_extension": ".r",
   "mimetype": "text/x-r-source",
   "name": "R",
   "pygments_lexer": "r",
   "version": "3.6.1"
  }
 },
 "nbformat": 4,
 "nbformat_minor": 2
}
